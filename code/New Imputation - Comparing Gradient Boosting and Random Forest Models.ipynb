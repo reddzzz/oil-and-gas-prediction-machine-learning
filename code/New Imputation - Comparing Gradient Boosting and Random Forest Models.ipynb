{
 "cells": [
  {
   "cell_type": "code",
   "execution_count": 1,
   "id": "65873077",
   "metadata": {
    "scrolled": true
   },
   "outputs": [],
   "source": [
    "import numpy as np\n",
    "import pandas as pd\n",
    "from scipy import stats\n",
    "from sklearn.metrics import mean_squared_error\n",
    "from math import *\n",
    "import matplotlib.pyplot as plt\n",
    "from sklearn.ensemble import *\n",
    "from sklearn.model_selection import train_test_split\n",
    "from sklearn import metrics\n",
    "from sklearn.model_selection import cross_val_score\n",
    "from sklearn.preprocessing import StandardScaler "
   ]
  },
  {
   "cell_type": "markdown",
   "id": "34fdff67",
   "metadata": {},
   "source": [
    "# Gradient Boosting"
   ]
  },
  {
   "cell_type": "markdown",
   "id": "a65c2701",
   "metadata": {},
   "source": [
    "# Oil Prediction"
   ]
  },
  {
   "cell_type": "code",
   "execution_count": 2,
   "id": "607f0621",
   "metadata": {},
   "outputs": [],
   "source": [
    "data = pd.read_excel(\"/Users/sreeya/Documents/Uni/Thesis/new kyle n volve/final_dataset1.xlsx\")\n",
    "data1 = pd.read_excel(\"/Users/sreeya/Documents/Uni/Thesis/new kyle n volve/final_dataset1.xlsx\")"
   ]
  },
  {
   "cell_type": "code",
   "execution_count": 3,
   "id": "67496e75",
   "metadata": {},
   "outputs": [],
   "source": [
    "X = data1.filter(['Hours Online', 'Av. DHT (Deg C)', 'Av. DHP (bar)','Av. WHP (bar)', 'Av. WHT (Deg C)'])\n",
    "Y = data['Oil (m3)']\n",
    "\n",
    "X_train, X_test, y_train, y_test = train_test_split(X, Y, test_size=0.1, random_state=42)\n",
    "X_train, X_val, y_train, y_val = train_test_split(X_train, y_train, test_size=0.1, random_state=42)"
   ]
  },
  {
   "cell_type": "code",
   "execution_count": 4,
   "id": "5d9c0f4a",
   "metadata": {},
   "outputs": [
    {
     "name": "stdout",
     "output_type": "stream",
     "text": [
      "SCORE: 316.9993389290125\n"
     ]
    }
   ],
   "source": [
    "model= GradientBoostingRegressor()\n",
    "\n",
    "model.fit(X_train, y_train)\n",
    "\n",
    "pred = model.predict(X_test)\n",
    "rmse = sqrt(mean_squared_error(y_test, pred))\n",
    "print (\"SCORE:\", rmse)"
   ]
  },
  {
   "cell_type": "markdown",
   "id": "989ea528",
   "metadata": {},
   "source": [
    "# Gas Prediction"
   ]
  },
  {
   "cell_type": "code",
   "execution_count": 5,
   "id": "c5c0ff26",
   "metadata": {},
   "outputs": [],
   "source": [
    "X = data1.filter(['Hours Online', 'Av. DHT (Deg C)', 'Av. DHP (bar)','Av. WHP (bar)', 'Av. WHT (Deg C)'])\n",
    "Y = data['Gas (m3)']\n",
    "\n",
    "X_train, X_test, y_train, y_test = train_test_split(X, Y, test_size=0.1, random_state=42)\n",
    "X_train, X_val, y_train, y_val = train_test_split(X_train, y_train, test_size=0.1, random_state=42)"
   ]
  },
  {
   "cell_type": "code",
   "execution_count": 6,
   "id": "7702061c",
   "metadata": {},
   "outputs": [
    {
     "name": "stdout",
     "output_type": "stream",
     "text": [
      "SCORE: 83489.68080250702\n"
     ]
    }
   ],
   "source": [
    "model= GradientBoostingRegressor()\n",
    "\n",
    "model.fit(X_train, y_train)\n",
    "\n",
    "pred = model.predict(X_test)\n",
    "rmse = sqrt(mean_squared_error(y_test, pred))\n",
    "print (\"SCORE:\", rmse)"
   ]
  },
  {
   "cell_type": "markdown",
   "id": "3ffd1bb0",
   "metadata": {},
   "source": [
    "# Random Forest"
   ]
  },
  {
   "cell_type": "code",
   "execution_count": null,
   "id": "2afc9171",
   "metadata": {},
   "outputs": [],
   "source": []
  },
  {
   "cell_type": "code",
   "execution_count": 7,
   "id": "4cd17381",
   "metadata": {},
   "outputs": [],
   "source": [
    "data = pd.read_excel(\"/Users/sreeya/Documents/Uni/Thesis/new kyle n volve/final_dataset2.xlsx\")\n",
    "data1 = pd.read_excel(\"/Users/sreeya/Documents/Uni/Thesis/new kyle n volve/final_dataset2.xlsx\")"
   ]
  },
  {
   "cell_type": "code",
   "execution_count": 8,
   "id": "7f7c56d4",
   "metadata": {},
   "outputs": [],
   "source": [
    "X = data1.filter(['Hours Online', 'Av. DHT (Deg C)', 'Av. DHP (bar)','Av. WHP (bar)', 'Av. WHT (Deg C)'])\n",
    "Y = data['Oil (m3)']\n",
    "\n",
    "X_train, X_test, y_train, y_test = train_test_split(X, Y, test_size=0.1, random_state=42)\n",
    "X_train, X_val, y_train, y_val = train_test_split(X_train, y_train, test_size=0.1, random_state=42)"
   ]
  },
  {
   "cell_type": "code",
   "execution_count": 9,
   "id": "f4c15ae4",
   "metadata": {},
   "outputs": [
    {
     "name": "stdout",
     "output_type": "stream",
     "text": [
      "SCORE: 182.56409430880618\n"
     ]
    }
   ],
   "source": [
    "model= RandomForestRegressor()\n",
    "\n",
    "model.fit(X_train, y_train)\n",
    "\n",
    "pred = model.predict(X_test)\n",
    "rmse = sqrt(mean_squared_error(y_test, pred))\n",
    "print (\"SCORE:\", rmse)"
   ]
  },
  {
   "cell_type": "markdown",
   "id": "b0b5384a",
   "metadata": {},
   "source": [
    "# Gas Prediction"
   ]
  },
  {
   "cell_type": "code",
   "execution_count": 10,
   "id": "908a5543",
   "metadata": {},
   "outputs": [],
   "source": [
    "X = data1.filter(['Hours Online', 'Av. DHT (Deg C)', 'Av. DHP (bar)','Av. WHP (bar)', 'Av. WHT (Deg C)'])\n",
    "Y = data['Gas (m3)']\n",
    "\n",
    "X_train, X_test, y_train, y_test = train_test_split(X, Y, test_size=0.1, random_state=42)\n",
    "X_train, X_val, y_train, y_val = train_test_split(X_train, y_train, test_size=0.1, random_state=42)"
   ]
  },
  {
   "cell_type": "code",
   "execution_count": 11,
   "id": "adea8b4c",
   "metadata": {},
   "outputs": [
    {
     "name": "stdout",
     "output_type": "stream",
     "text": [
      "SCORE: 57008.29634657135\n"
     ]
    }
   ],
   "source": [
    "model= RandomForestRegressor()\n",
    "\n",
    "model.fit(X_train, y_train)\n",
    "\n",
    "pred = model.predict(X_test)\n",
    "rmse = sqrt(mean_squared_error(y_test, pred))\n",
    "print (\"SCORE:\", rmse)"
   ]
  },
  {
   "cell_type": "code",
   "execution_count": null,
   "id": "229680e4",
   "metadata": {},
   "outputs": [],
   "source": []
  }
 ],
 "metadata": {
  "kernelspec": {
   "display_name": "Python 3 (ipykernel)",
   "language": "python",
   "name": "python3"
  },
  "language_info": {
   "codemirror_mode": {
    "name": "ipython",
    "version": 3
   },
   "file_extension": ".py",
   "mimetype": "text/x-python",
   "name": "python",
   "nbconvert_exporter": "python",
   "pygments_lexer": "ipython3",
   "version": "3.9.10"
  }
 },
 "nbformat": 4,
 "nbformat_minor": 5
}
