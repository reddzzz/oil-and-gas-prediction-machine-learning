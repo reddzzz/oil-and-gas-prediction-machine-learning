{
 "cells": [
  {
   "cell_type": "code",
   "execution_count": 1,
   "id": "65873077",
   "metadata": {
    "scrolled": true
   },
   "outputs": [],
   "source": [
    "import numpy as np\n",
    "import pandas as pd\n",
    "from scipy import stats\n",
    "from sklearn.metrics import mean_squared_error\n",
    "from math import *\n",
    "import matplotlib.pyplot as plt\n",
    "from sklearn.ensemble import *\n",
    "from sklearn.model_selection import train_test_split\n",
    "from sklearn import metrics\n",
    "from sklearn.model_selection import cross_val_score\n",
    "from sklearn.preprocessing import StandardScaler "
   ]
  },
  {
   "cell_type": "code",
   "execution_count": 2,
   "id": "607f0621",
   "metadata": {},
   "outputs": [],
   "source": [
    "data = pd.read_excel(\"/Users/sreeya/Documents/Uni/Thesis/new kyle n volve/MI_final_dataset1.xlsx\")\n",
    "data1 = pd.read_excel(\"/Users/sreeya/Documents/Uni/Thesis/new kyle n volve/MI_final_dataset1.xlsx\")"
   ]
  },
  {
   "cell_type": "code",
   "execution_count": 3,
   "id": "bbb616a2",
   "metadata": {},
   "outputs": [],
   "source": [
    "X = data1.filter(['Hours Online', 'Av. DHT (Deg C)', 'Av. DHP (bar)','Av. WHP (bar)', 'Av. WHT (Deg C)'])\n",
    "Y = data['Oil (m3)']\n",
    "\n",
    "X_train, X_test, y_train, y_test = train_test_split(X, Y, test_size=0.1, random_state=42)\n",
    "X_train, X_val, y_train, y_val = train_test_split(X_train, y_train, test_size=0.1, random_state=42)"
   ]
  },
  {
   "cell_type": "markdown",
   "id": "a65c2701",
   "metadata": {},
   "source": [
    "# Oil Prediction"
   ]
  },
  {
   "cell_type": "markdown",
   "id": "34fdff67",
   "metadata": {},
   "source": [
    "# Gradient Boosting"
   ]
  },
  {
   "cell_type": "code",
   "execution_count": 4,
   "id": "5d9c0f4a",
   "metadata": {},
   "outputs": [
    {
     "name": "stdout",
     "output_type": "stream",
     "text": [
      "SCORE: 301.1886194102836\n"
     ]
    }
   ],
   "source": [
    "model= GradientBoostingRegressor()\n",
    "\n",
    "model.fit(X_train, y_train)\n",
    "\n",
    "pred = model.predict(X_test)\n",
    "rmse = sqrt(mean_squared_error(y_test, pred))\n",
    "print (\"SCORE:\", rmse)"
   ]
  },
  {
   "cell_type": "markdown",
   "id": "3ffd1bb0",
   "metadata": {},
   "source": [
    "# Random Forest"
   ]
  },
  {
   "cell_type": "code",
   "execution_count": 5,
   "id": "a88cb01a",
   "metadata": {},
   "outputs": [
    {
     "name": "stdout",
     "output_type": "stream",
     "text": [
      "SCORE: 201.1440022325663\n"
     ]
    }
   ],
   "source": [
    "model= RandomForestRegressor()\n",
    "\n",
    "model.fit(X_train, y_train)\n",
    "\n",
    "pred = model.predict(X_test)\n",
    "rmse = sqrt(mean_squared_error(y_test, pred))\n",
    "print (\"SCORE:\", rmse)"
   ]
  },
  {
   "cell_type": "markdown",
   "id": "989ea528",
   "metadata": {},
   "source": [
    "# Gas Prediction"
   ]
  },
  {
   "cell_type": "code",
   "execution_count": 6,
   "id": "15cf5375",
   "metadata": {},
   "outputs": [],
   "source": [
    "X = data1.filter(['Hours Online', 'Av. DHT (Deg C)', 'Av. DHP (bar)','Av. WHP (bar)', 'Av. WHT (Deg C)'])\n",
    "Y = data['Gas (m3)']\n",
    "\n",
    "X_train, X_test, y_train, y_test = train_test_split(X, Y, test_size=0.1, random_state=42)\n",
    "X_train, X_val, y_train, y_val = train_test_split(X_train, y_train, test_size=0.1, random_state=42)"
   ]
  },
  {
   "cell_type": "markdown",
   "id": "7901100b",
   "metadata": {},
   "source": [
    "# Gradient Boosting"
   ]
  },
  {
   "cell_type": "code",
   "execution_count": 7,
   "id": "a1d36e3b",
   "metadata": {},
   "outputs": [
    {
     "name": "stdout",
     "output_type": "stream",
     "text": [
      "SCORE: 86142.29230306884\n"
     ]
    }
   ],
   "source": [
    "model= GradientBoostingRegressor()\n",
    "\n",
    "model.fit(X_train, y_train)\n",
    "\n",
    "pred = model.predict(X_test)\n",
    "rmse = sqrt(mean_squared_error(y_test, pred))\n",
    "print (\"SCORE:\", rmse)"
   ]
  },
  {
   "cell_type": "markdown",
   "id": "50756029",
   "metadata": {},
   "source": [
    "# Random Forest"
   ]
  },
  {
   "cell_type": "code",
   "execution_count": 8,
   "id": "ad0821d7",
   "metadata": {},
   "outputs": [
    {
     "name": "stdout",
     "output_type": "stream",
     "text": [
      "SCORE: 56738.82823244358\n"
     ]
    }
   ],
   "source": [
    "model= RandomForestRegressor()\n",
    "\n",
    "model.fit(X_train, y_train)\n",
    "\n",
    "pred = model.predict(X_test)\n",
    "rmse = sqrt(mean_squared_error(y_test, pred))\n",
    "print (\"SCORE:\", rmse)"
   ]
  },
  {
   "cell_type": "code",
   "execution_count": null,
   "id": "9c8680d1",
   "metadata": {},
   "outputs": [],
   "source": []
  }
 ],
 "metadata": {
  "kernelspec": {
   "display_name": "Python 3 (ipykernel)",
   "language": "python",
   "name": "python3"
  },
  "language_info": {
   "codemirror_mode": {
    "name": "ipython",
    "version": 3
   },
   "file_extension": ".py",
   "mimetype": "text/x-python",
   "name": "python",
   "nbconvert_exporter": "python",
   "pygments_lexer": "ipython3",
   "version": "3.9.10"
  }
 },
 "nbformat": 4,
 "nbformat_minor": 5
}
