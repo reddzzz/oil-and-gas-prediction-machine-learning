{
 "cells": [
  {
   "cell_type": "code",
   "execution_count": 1,
   "id": "65873077",
   "metadata": {
    "scrolled": true
   },
   "outputs": [
    {
     "name": "stdout",
     "output_type": "stream",
     "text": [
      "Checking whether there is an H2O instance running at http://localhost:54321 ..... not found.\n",
      "Attempting to start a local H2O server...\n",
      "  Java Version: openjdk version \"15.0.1\" 2020-10-20; OpenJDK Runtime Environment (build 15.0.1+9-18); OpenJDK 64-Bit Server VM (build 15.0.1+9-18, mixed mode, sharing)\n",
      "  Starting server from /usr/local/lib/python3.9/site-packages/h2o/backend/bin/h2o.jar\n",
      "  Ice root: /var/folders/z_/w3xlnh2d73q7rhjpcns83fn40000gn/T/tmpjmdfnr5y\n",
      "  JVM stdout: /var/folders/z_/w3xlnh2d73q7rhjpcns83fn40000gn/T/tmpjmdfnr5y/h2o_sreeya_started_from_python.out\n",
      "  JVM stderr: /var/folders/z_/w3xlnh2d73q7rhjpcns83fn40000gn/T/tmpjmdfnr5y/h2o_sreeya_started_from_python.err\n",
      "  Server is running at http://127.0.0.1:54321\n",
      "Connecting to H2O server at http://127.0.0.1:54321 ... successful.\n",
      "Warning: Your H2O cluster version is too old (3 months and 14 days)!Please download and install the latest version from http://h2o.ai/download/\n"
     ]
    },
    {
     "data": {
      "text/html": [
       "<div style=\"overflow:auto\"><table style=\"width:50%\"><tr><td>H2O_cluster_uptime:</td>\n",
       "<td>02 secs</td></tr>\n",
       "<tr><td>H2O_cluster_timezone:</td>\n",
       "<td>Asia/Jakarta</td></tr>\n",
       "<tr><td>H2O_data_parsing_timezone:</td>\n",
       "<td>UTC</td></tr>\n",
       "<tr><td>H2O_cluster_version:</td>\n",
       "<td>3.36.0.3</td></tr>\n",
       "<tr><td>H2O_cluster_version_age:</td>\n",
       "<td>3 months and 14 days !!!</td></tr>\n",
       "<tr><td>H2O_cluster_name:</td>\n",
       "<td>H2O_from_python_sreeya_5yef28</td></tr>\n",
       "<tr><td>H2O_cluster_total_nodes:</td>\n",
       "<td>1</td></tr>\n",
       "<tr><td>H2O_cluster_free_memory:</td>\n",
       "<td>4 Gb</td></tr>\n",
       "<tr><td>H2O_cluster_total_cores:</td>\n",
       "<td>8</td></tr>\n",
       "<tr><td>H2O_cluster_allowed_cores:</td>\n",
       "<td>8</td></tr>\n",
       "<tr><td>H2O_cluster_status:</td>\n",
       "<td>locked, healthy</td></tr>\n",
       "<tr><td>H2O_connection_url:</td>\n",
       "<td>http://127.0.0.1:54321</td></tr>\n",
       "<tr><td>H2O_connection_proxy:</td>\n",
       "<td>{\"http\": null, \"https\": null}</td></tr>\n",
       "<tr><td>H2O_internal_security:</td>\n",
       "<td>False</td></tr>\n",
       "<tr><td>Python_version:</td>\n",
       "<td>3.9.10 final</td></tr></table></div>"
      ],
      "text/plain": [
       "--------------------------  -----------------------------\n",
       "H2O_cluster_uptime:         02 secs\n",
       "H2O_cluster_timezone:       Asia/Jakarta\n",
       "H2O_data_parsing_timezone:  UTC\n",
       "H2O_cluster_version:        3.36.0.3\n",
       "H2O_cluster_version_age:    3 months and 14 days !!!\n",
       "H2O_cluster_name:           H2O_from_python_sreeya_5yef28\n",
       "H2O_cluster_total_nodes:    1\n",
       "H2O_cluster_free_memory:    4 Gb\n",
       "H2O_cluster_total_cores:    8\n",
       "H2O_cluster_allowed_cores:  8\n",
       "H2O_cluster_status:         locked, healthy\n",
       "H2O_connection_url:         http://127.0.0.1:54321\n",
       "H2O_connection_proxy:       {\"http\": null, \"https\": null}\n",
       "H2O_internal_security:      False\n",
       "Python_version:             3.9.10 final\n",
       "--------------------------  -----------------------------"
      ]
     },
     "metadata": {},
     "output_type": "display_data"
    }
   ],
   "source": [
    "import numpy as np\n",
    "import pandas as pd\n",
    "from scipy import stats\n",
    "from sklearn.metrics import mean_squared_error\n",
    "from math import *\n",
    "import matplotlib.pyplot as plt\n",
    "import h2o\n",
    "from h2o.estimators import H2OGradientBoostingEstimator\n",
    "from h2o.estimators import H2ORandomForestEstimator\n",
    "from h2o.grid.grid_search import H2OGridSearch\n",
    "h2o.init()\n",
    "import warnings\n",
    "warnings.filterwarnings('ignore')"
   ]
  },
  {
   "cell_type": "code",
   "execution_count": 2,
   "id": "607f0621",
   "metadata": {},
   "outputs": [],
   "source": [
    "testing_data = pd.read_excel(\"testingt.xlsx\")\n",
    "testing_data1 = pd.read_excel(\"testingt.xlsx\")\n",
    "data = pd.read_excel(\"ff_final_dataset.xlsx\")\n",
    "data1 = pd.read_excel(\"ff_final_dataset.xlsx\")\n",
    "testing_data.drop(\"Unnamed: 0\", axis=1, inplace=True)\n",
    "testing_data.drop(\"Date\", axis=1, inplace=True)\n",
    "testing_data.drop(\"Wellbore ID\", axis=1, inplace=True)\n",
    "testing_data1.drop(\"Wellbore ID\", axis=1, inplace=True)\n",
    "testing_data1 = testing_data1.dropna()\n",
    "testing_data = testing_data.dropna()\n",
    "data = data.dropna()\n",
    "data1 = data1.dropna()"
   ]
  },
  {
   "cell_type": "code",
   "execution_count": 3,
   "id": "925c77c4",
   "metadata": {},
   "outputs": [
    {
     "name": "stdout",
     "output_type": "stream",
     "text": [
      "Parse progress: |████████████████████████████████████████████████████████████████| (done) 100%\n"
     ]
    }
   ],
   "source": [
    "data_pred = h2o.H2OFrame(testing_data)"
   ]
  },
  {
   "cell_type": "code",
   "execution_count": 4,
   "id": "9d6e858d",
   "metadata": {},
   "outputs": [
    {
     "name": "stdout",
     "output_type": "stream",
     "text": [
      "Parse progress: |████████████████████████████████████████████████████████████████| (done) 100%\n"
     ]
    }
   ],
   "source": [
    "data_f = h2o.H2OFrame(data)"
   ]
  },
  {
   "cell_type": "code",
   "execution_count": 5,
   "id": "9ac9c9cb",
   "metadata": {},
   "outputs": [],
   "source": [
    "train, valid = data_f.split_frame(ratios = [.9])"
   ]
  },
  {
   "cell_type": "code",
   "execution_count": 6,
   "id": "c6393bfc",
   "metadata": {},
   "outputs": [],
   "source": [
    "x = train.columns\n",
    "y = \"Oil (m3)\"\n",
    "x.remove(y)\n",
    "x.remove('Gas (m3)')"
   ]
  },
  {
   "cell_type": "markdown",
   "id": "a65c2701",
   "metadata": {},
   "source": [
    "# Oil Prediction"
   ]
  },
  {
   "cell_type": "markdown",
   "id": "34fdff67",
   "metadata": {},
   "source": [
    "# Gradient Boosting"
   ]
  },
  {
   "cell_type": "code",
   "execution_count": 7,
   "id": "5d9c0f4a",
   "metadata": {},
   "outputs": [
    {
     "name": "stdout",
     "output_type": "stream",
     "text": [
      "gbm Model Build progress: |██████████████████████████████████████████████████████| (done) 100%\n",
      "gbm prediction progress: |███████████████████████████████████████████████████████| (done) 100%\n"
     ]
    }
   ],
   "source": [
    "pros_gbm = H2OGradientBoostingEstimator()\n",
    "pros_gbm.train(x=x, y=y, training_frame=train, validation_frame=valid)\n",
    "perf = pros_gbm.model_performance()\n",
    "pred = pros_gbm.predict(data_pred)"
   ]
  },
  {
   "cell_type": "code",
   "execution_count": 8,
   "id": "bac557b7",
   "metadata": {},
   "outputs": [],
   "source": [
    "pr = h2o.as_list(pred)"
   ]
  },
  {
   "cell_type": "code",
   "execution_count": 9,
   "id": "773ac284",
   "metadata": {},
   "outputs": [
    {
     "name": "stdout",
     "output_type": "stream",
     "text": [
      "RMSE :  303.2566303526326\n"
     ]
    }
   ],
   "source": [
    "rmse = sqrt(mean_squared_error(pr['predict'], testing_data['Oil (m3)'])) \n",
    "print(\"RMSE : \", rmse)"
   ]
  },
  {
   "cell_type": "markdown",
   "id": "3ffd1bb0",
   "metadata": {},
   "source": [
    "# Random Forest"
   ]
  },
  {
   "cell_type": "code",
   "execution_count": 10,
   "id": "a88cb01a",
   "metadata": {},
   "outputs": [
    {
     "name": "stdout",
     "output_type": "stream",
     "text": [
      "drf Model Build progress: |██████████████████████████████████████████████████████| (done) 100%\n",
      "drf prediction progress: |███████████████████████████████████████████████████████| (done) 100%\n"
     ]
    }
   ],
   "source": [
    "s_drf = H2ORandomForestEstimator()\n",
    "s_drf.train(x=x, y=y, training_frame=train, validation_frame=valid)\n",
    "perf1 = s_drf.model_performance()\n",
    "pred1 = s_drf.predict(data_pred)"
   ]
  },
  {
   "cell_type": "code",
   "execution_count": 11,
   "id": "fa54a425",
   "metadata": {},
   "outputs": [
    {
     "name": "stdout",
     "output_type": "stream",
     "text": [
      "drf prediction progress: |███████████████████████████████████████████████████████| (done) 100%\n"
     ]
    }
   ],
   "source": [
    "pred_on_train = s_drf.predict(data_f)\n",
    "rf_train = pred_on_train.as_data_frame()"
   ]
  },
  {
   "cell_type": "code",
   "execution_count": 12,
   "id": "22f87648",
   "metadata": {},
   "outputs": [],
   "source": [
    "pr1 = pred1.as_data_frame()"
   ]
  },
  {
   "cell_type": "code",
   "execution_count": 13,
   "id": "853eac2b",
   "metadata": {},
   "outputs": [
    {
     "name": "stdout",
     "output_type": "stream",
     "text": [
      "RMSE :  372.56657324620994\n"
     ]
    }
   ],
   "source": [
    "rmse = sqrt(mean_squared_error(pr1['predict'], testing_data['Oil (m3)'])) \n",
    "print(\"RMSE : \", rmse)"
   ]
  },
  {
   "cell_type": "markdown",
   "id": "989ea528",
   "metadata": {},
   "source": [
    "# Gas Prediction"
   ]
  },
  {
   "cell_type": "code",
   "execution_count": 14,
   "id": "15cf5375",
   "metadata": {},
   "outputs": [],
   "source": [
    "x = train.columns\n",
    "y = \"Gas (m3)\"\n",
    "x.remove(y)\n",
    "x.remove('Oil (m3)')"
   ]
  },
  {
   "cell_type": "markdown",
   "id": "7901100b",
   "metadata": {},
   "source": [
    "# Gradient Boosting"
   ]
  },
  {
   "cell_type": "code",
   "execution_count": 15,
   "id": "a1d36e3b",
   "metadata": {},
   "outputs": [
    {
     "name": "stdout",
     "output_type": "stream",
     "text": [
      "gbm Model Build progress: |██████████████████████████████████████████████████████| (done) 100%\n",
      "gbm prediction progress: |███████████████████████████████████████████████████████| (done) 100%\n"
     ]
    }
   ],
   "source": [
    "pros_gbm = H2OGradientBoostingEstimator()\n",
    "pros_gbm.train(x=x, y=y, training_frame=train, validation_frame=valid)\n",
    "perf = pros_gbm.model_performance()\n",
    "pred = pros_gbm.predict(data_pred)"
   ]
  },
  {
   "cell_type": "code",
   "execution_count": 16,
   "id": "a93edfd9",
   "metadata": {},
   "outputs": [],
   "source": [
    "data_as_list = h2o.as_list(pred, use_pandas=True)\n",
    "pr = h2o.as_list(pred)"
   ]
  },
  {
   "cell_type": "code",
   "execution_count": 17,
   "id": "708ae9c1",
   "metadata": {},
   "outputs": [
    {
     "name": "stdout",
     "output_type": "stream",
     "text": [
      "RMSE :  139915.4840198639\n"
     ]
    }
   ],
   "source": [
    "rmse = sqrt(mean_squared_error(pr['predict'], testing_data['Gas (m3)'])) \n",
    "print(\"RMSE : \", rmse)"
   ]
  },
  {
   "cell_type": "markdown",
   "id": "50756029",
   "metadata": {},
   "source": [
    "# Random Forest"
   ]
  },
  {
   "cell_type": "code",
   "execution_count": 18,
   "id": "ad0821d7",
   "metadata": {},
   "outputs": [
    {
     "name": "stdout",
     "output_type": "stream",
     "text": [
      "drf Model Build progress: |██████████████████████████████████████████████████████| (done) 100%\n",
      "drf prediction progress: |███████████████████████████████████████████████████████| (done) 100%\n"
     ]
    }
   ],
   "source": [
    "s_drf = H2ORandomForestEstimator()\n",
    "s_drf.train(x=x, y=y, training_frame=train, validation_frame=valid)\n",
    "perf1 = s_drf.model_performance()\n",
    "pred1 = s_drf.predict(data_pred)"
   ]
  },
  {
   "cell_type": "code",
   "execution_count": 19,
   "id": "95e9de63",
   "metadata": {},
   "outputs": [],
   "source": [
    "data_as_list = h2o.as_list(pred1, use_pandas=False)\n",
    "pr1 = h2o.as_list(pred1)"
   ]
  },
  {
   "cell_type": "code",
   "execution_count": 20,
   "id": "225d8de3",
   "metadata": {},
   "outputs": [
    {
     "name": "stdout",
     "output_type": "stream",
     "text": [
      "RMSE :  189661.67569354054\n"
     ]
    }
   ],
   "source": [
    "rmse = sqrt(mean_squared_error(pr1['predict'], testing_data['Gas (m3)'])) \n",
    "print(\"RMSE : \", rmse)"
   ]
  }
 ],
 "metadata": {
  "kernelspec": {
   "display_name": "Python 3 (ipykernel)",
   "language": "python",
   "name": "python3"
  },
  "language_info": {
   "codemirror_mode": {
    "name": "ipython",
    "version": 3
   },
   "file_extension": ".py",
   "mimetype": "text/x-python",
   "name": "python",
   "nbconvert_exporter": "python",
   "pygments_lexer": "ipython3",
   "version": "3.9.10"
  }
 },
 "nbformat": 4,
 "nbformat_minor": 5
}
